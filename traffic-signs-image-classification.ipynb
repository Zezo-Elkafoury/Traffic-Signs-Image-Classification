{
 "cells": [
  {
   "attachments": {
    
   },
   "cell_type": "markdown",
   "id": "c3d6fbf0",
   "metadata": {
    "papermill": {
     "duration": 0.031417,
     "end_time": "2024-08-07T18:39:34.682971",
     "exception": false,
     "start_time": "2024-08-07T18:39:34.651554",
     "status": "completed"
    },
    "tags": []
   },
   "source": [
    "# **Traffic Sign Image Classification 97% Acc [CNN]**\n",
    "\n",
    "![maxresdefault.jpg](attachment:3a42276f-3af1-4c53-87ed-9d0dd201db12.jpg)\n",
    "\n",
    "1. Download and Imports\n",
    "2. Functions\n",
    "3. Loading Dataset (Traffic Signs Images)\n",
    "4. Data Splitting and conversion\n",
    "5. Creating and Compiling the Model\n",
    "6. Training the Model\n",
    "7. Visualizing the performance of the Model during Training Phase\n",
    "8. Loading Test Dataset and Evaluating the Model\n",
    "9. Saving the Model \n",
    "\n",
    "\n",
    "\n",
    "\n",
    "\n",
    "\n",
    "\n",
    ""
   ]
  },
  {
   "cell_type": "markdown",
   "id": "6f2cca54",
   "metadata": {
    "papermill": {
     "duration": 0.025234,
     "end_time": "2024-08-07T18:39:34.731480",
     "exception": false,
     "start_time": "2024-08-07T18:39:34.706246",
     "status": "completed"
    },
    "tags": []
   },
   "source": [
    "# 1. Download and Imports"
   ]
  },
  {
   "cell_type": "code",
   "execution_count": 1,
   "id": "218b4468",
   "metadata": {
    "execution": {
     "iopub.execute_input": "2024-08-07T18:39:34.779006Z",
     "iopub.status.busy": "2024-08-07T18:39:34.778534Z",
     "iopub.status.idle": "2024-08-07T18:39:41.202870Z",
     "shell.execute_reply": "2024-08-07T18:39:41.202174Z"
    },
    "papermill": {
     "duration": 6.45085,
     "end_time": "2024-08-07T18:39:41.205271",
     "exception": false,
     "start_time": "2024-08-07T18:39:34.754421",
     "status": "completed"
    },
    "tags": []
   },
   "outputs": [],
   "source": [
    "# Fundamental classes\n",
    "import numpy as np \n",
    "import pandas as pd \n",
    "import tensorflow as tf\n",
    "import os\n",
    "\n",
    "# Image related\n",
    "import cv2\n",
    "from PIL import Image\n",
    "\n",
    "#Performance Plot\n",
    "from sklearn import metrics \n",
    "from sklearn.metrics import f1_score, accuracy_score,confusion_matrix,classification_report\n",
    "import matplotlib.pyplot as plt\n",
    "import seaborn as sns\n",
    "%matplotlib inline\n",
    "\n",
    "# For the model and it's training\n",
    "from sklearn.model_selection import train_test_split\n",
    "from tensorflow.keras.utils import to_categorical\n",
    "from tensorflow.keras.models import Sequential, load_model\n",
    "from tensorflow.keras.layers import Conv2D, MaxPool2D, Dense, Flatten, Dropout\n",
    "\n",
    "# Time\n",
    "import time\n",
    "import datetime"
   ]
  },
  {
   "cell_type": "markdown",
   "id": "7411dc23",
   "metadata": {
    "papermill": {
     "duration": 0.021975,
     "end_time": "2024-08-07T18:39:41.250113",
     "exception": false,
     "start_time": "2024-08-07T18:39:41.228138",
     "status": "completed"
    },
    "tags": []
   },
   "source": [
    "# 2. Functions"
   ]
  },
  {
   "cell_type": "code",
   "execution_count": 2,
   "id": "1de71e20",
   "metadata": {
    "execution": {
     "iopub.execute_input": "2024-08-07T18:39:41.296327Z",
     "iopub.status.busy": "2024-08-07T18:39:41.296058Z",
     "iopub.status.idle": "2024-08-07T18:39:41.302423Z",
     "shell.execute_reply": "2024-08-07T18:39:41.301670Z"
    },
    "papermill": {
     "duration": 0.031774,
     "end_time": "2024-08-07T18:39:41.304201",
     "exception": false,
     "start_time": "2024-08-07T18:39:41.272427",
     "status": "completed"
    },
    "tags": []
   },
   "outputs": [],
   "source": [
    "# date_time function\n",
    "\n",
    "def date_time(x):\n",
    "    if x==1:\n",
    "        return 'Timestamp: {:%Y-%m-%d %H:%M:%S}'.format(datetime.datetime.now())\n",
    "    if x==2:    \n",
    "        return 'Timestamp: {:%Y-%b-%d %H:%M:%S}'.format(datetime.datetime.now())\n",
    "    if x==3:  \n",
    "        return 'Date now: %s' % datetime.datetime.now()\n",
    "    if x==4:  \n",
    "        return 'Date today: %s' % datetime.date.today()"
   ]
  },
  {
   "cell_type": "code",
   "execution_count": 3,
   "id": "976bfc6c",
   "metadata": {
    "execution": {
     "iopub.execute_input": "2024-08-07T18:39:41.350443Z",
     "iopub.status.busy": "2024-08-07T18:39:41.350169Z",
     "iopub.status.idle": "2024-08-07T18:39:41.362177Z",
     "shell.execute_reply": "2024-08-07T18:39:41.361442Z"
    },
    "papermill": {
     "duration": 0.037366,
     "end_time": "2024-08-07T18:39:41.364032",
     "exception": false,
     "start_time": "2024-08-07T18:39:41.326666",
     "status": "completed"
    },
    "tags": []
   },
   "outputs": [],
   "source": [
    "# Performance Plot\n",
    "\n",
    "def plot_performance(history=None, figure_directory=None, ylim_pad=[0, 0]):\n",
    "    xlabel = 'Epoch'\n",
    "    legends = ['Training', 'Validation']\n",
    "\n",
    "    plt.figure(figsize=(20, 5))\n",
    "\n",
    "    y1 = history.history['accuracy']\n",
    "    y2 = history.history['val_accuracy']\n",
    "\n",
    "    min_y = min(min(y1), min(y2))-ylim_pad[0]\n",
    "    max_y = max(max(y1), max(y2))+ylim_pad[0]\n",
    "\n",
    "\n",
    "    plt.subplot(121)\n",
    "\n",
    "    plt.plot(y1)\n",
    "    plt.plot(y2)\n",
    "\n",
    "    plt.title('Model Accuracy\\n'+date_time(1), fontsize=17)\n",
    "    plt.xlabel(xlabel, fontsize=15)\n",
    "    plt.ylabel('Accuracy', fontsize=15)\n",
    "    plt.ylim(min_y, max_y)\n",
    "    plt.legend(legends, loc='upper left')\n",
    "    plt.grid()\n",
    "\n",
    "    y1 = history.history['loss']\n",
    "    y2 = history.history['val_loss']\n",
    "\n",
    "    min_y = min(min(y1), min(y2))-ylim_pad[1]\n",
    "    max_y = max(max(y1), max(y2))+ylim_pad[1]\n",
    "\n",
    "\n",
    "    plt.subplot(122)\n",
    "\n",
    "    plt.plot(y1)\n",
    "    plt.plot(y2)\n",
    "\n",
    "    plt.title('Model Loss\\n'+date_time(1), fontsize=17)\n",
    "    plt.xlabel(xlabel, fontsize=15)\n",
    "    plt.ylabel('Loss', fontsize=15)\n",
    "    plt.ylim(min_y, max_y)\n",
    "    plt.legend(legends, loc='upper left')\n",
    "    plt.grid()\n",
    "    if figure_directory:\n",
    "        plt.savefig(figure_directory+\"/history\")\n",
    "\n",
    "    plt.show()"
   ]
  },
  {
   "cell_type": "markdown",
   "id": "e90bb984",
   "metadata": {
    "papermill": {
     "duration": 0.02208,
     "end_time": "2024-08-07T18:39:41.408316",
     "exception": false,
     "start_time": "2024-08-07T18:39:41.386236",
     "status": "completed"
    },
    "tags": []
   },
   "source": [
    "# 3. Loading Dataset (Traffic Signs Images)"
   ]
  },
  {
   "cell_type": "code",
   "execution_count": 4,
   "id": "9ec034b5",
   "metadata": {
    "execution": {
     "iopub.execute_input": "2024-08-07T18:39:41.456692Z",
     "iopub.status.busy": "2024-08-07T18:39:41.456394Z",
     "iopub.status.idle": "2024-08-07T18:43:50.429664Z",
     "shell.execute_reply": "2024-08-07T18:43:50.428759Z"
    },
    "papermill": {
     "duration": 248.999302,
     "end_time": "2024-08-07T18:43:50.432222",
     "exception": false,
     "start_time": "2024-08-07T18:39:41.432920",
     "status": "completed"
    },
    "tags": []
   },
   "outputs": [],
   "source": [
    "# Setting variables for later use\n",
    "data = []\n",
    "labels = []\n",
    "classes = 43\n",
    "cur_path = os.getcwd()\n",
    "\n",
    "# Retrieving the images and their labels \n",
    "for i in range(classes):\n",
    "    path = os.path.join('../input/gtsrb-german-traffic-sign/','train',str(i))\n",
    "    images = os.listdir(path)\n",
    "\n",
    "    for a in images:\n",
    "        try:\n",
    "            image = Image.open(path + '/'+ a)\n",
    "            image = image.resize((30,30))\n",
    "            image = np.array(image)\n",
    "            #sim = Image.fromarray(image)\n",
    "            data.append(image)\n",
    "            labels.append(i)\n",
    "        except:\n",
    "            print(\"Error loading image\")\n",
    "\n",
    "# Converting lists into numpy arrays\n",
    "data = np.array(data)\n",
    "labels = np.array(labels)"
   ]
  },
  {
   "cell_type": "markdown",
   "id": "90a7ca26",
   "metadata": {
    "papermill": {
     "duration": 0.021855,
     "end_time": "2024-08-07T18:43:50.477065",
     "exception": false,
     "start_time": "2024-08-07T18:43:50.455210",
     "status": "completed"
    },
    "tags": []
   },
   "source": [
    "# 4. Data Splitting and conversion"
   ]
  },
  {
   "cell_type": "code",
   "execution_count": 5,
   "id": "51071b0b",
   "metadata": {
    "execution": {
     "iopub.execute_input": "2024-08-07T18:43:50.522638Z",
     "iopub.status.busy": "2024-08-07T18:43:50.522007Z",
     "iopub.status.idle": "2024-08-07T18:43:50.568543Z",
     "shell.execute_reply": "2024-08-07T18:43:50.567804Z"
    },
    "papermill": {
     "duration": 0.071864,
     "end_time": "2024-08-07T18:43:50.570887",
     "exception": false,
     "start_time": "2024-08-07T18:43:50.499023",
     "status": "completed"
    },
    "tags": []
   },
   "outputs": [
    {
     "name": "stdout",
     "output_type": "stream",
     "text": [
      "(39209, 30, 30, 3) (39209,)\n",
      "(31367, 30, 30, 3) (7842, 30, 30, 3) (31367,) (7842,)\n"
     ]
    }
   ],
   "source": [
    "# Checking data shape\n",
    "print(data.shape, labels.shape)\n",
    "\n",
    "# Splitting training and testing dataset\n",
    "X_train, X_test, y_train, y_test = train_test_split(data, labels, test_size=0.2, random_state=42)\n",
    "\n",
    "# Displaying the shape after the split\n",
    "print(X_train.shape, X_test.shape, y_train.shape, y_test.shape)\n",
    "\n",
    "# Converting the labels into one hot encoding\n",
    "y_train = to_categorical(y_train, 43)\n",
    "y_test = to_categorical(y_test, 43)"
   ]
  },
  {
   "cell_type": "markdown",
   "id": "d3fd8985",
   "metadata": {
    "papermill": {
     "duration": 0.022244,
     "end_time": "2024-08-07T18:43:50.616140",
     "exception": false,
     "start_time": "2024-08-07T18:43:50.593896",
     "status": "completed"
    },
    "tags": []
   },
   "source": [
    "# 5. Creating and Compiling the Model"
   ]
  },
  {
   "cell_type": "code",
   "execution_count": 6,
   "id": "ae6175d5",
   "metadata": {
    "execution": {
     "iopub.execute_input": "2024-08-07T18:43:50.662356Z",
     "iopub.status.busy": "2024-08-07T18:43:50.662115Z",
     "iopub.status.idle": "2024-08-07T18:43:53.404489Z",
     "shell.execute_reply": "2024-08-07T18:43:53.403663Z"
    },
    "papermill": {
     "duration": 2.767793,
     "end_time": "2024-08-07T18:43:53.406432",
     "exception": false,
     "start_time": "2024-08-07T18:43:50.638639",
     "status": "completed"
    },
    "tags": []
   },
   "outputs": [
    {
     "name": "stdout",
     "output_type": "stream",
     "text": [
      "Model: \"sequential\"\n",
      "_________________________________________________________________\n",
      "Layer (type)                 Output Shape              Param #   \n",
      "=================================================================\n",
      "conv2d (Conv2D)              (None, 26, 26, 32)        2432      \n",
      "_________________________________________________________________\n",
      "conv2d_1 (Conv2D)            (None, 22, 22, 64)        51264     \n",
      "_________________________________________________________________\n",
      "max_pooling2d (MaxPooling2D) (None, 11, 11, 64)        0         \n",
      "_________________________________________________________________\n",
      "dropout (Dropout)            (None, 11, 11, 64)        0         \n",
      "_________________________________________________________________\n",
      "conv2d_2 (Conv2D)            (None, 9, 9, 128)         73856     \n",
      "_________________________________________________________________\n",
      "conv2d_3 (Conv2D)            (None, 7, 7, 256)         295168    \n",
      "_________________________________________________________________\n",
      "max_pooling2d_1 (MaxPooling2 (None, 3, 3, 256)         0         \n",
      "_________________________________________________________________\n",
      "dropout_1 (Dropout)          (None, 3, 3, 256)         0         \n",
      "_________________________________________________________________\n",
      "flatten (Flatten)            (None, 2304)              0         \n",
      "_________________________________________________________________\n",
      "dense (Dense)                (None, 512)               1180160   \n",
      "_________________________________________________________________\n",
      "dropout_2 (Dropout)          (None, 512)               0         \n",
      "_________________________________________________________________\n",
      "dense_1 (Dense)              (None, 43)                22059     \n",
      "=================================================================\n",
      "Total params: 1,624,939\n",
      "Trainable params: 1,624,939\n",
      "Non-trainable params: 0\n",
      "_________________________________________________________________\n"
     ]
    }
   ],
   "source": [
    "# Building the model\n",
    "model = Sequential()\n",
    "model.add(Conv2D(filters=32, kernel_size=(5,5), activation='relu', input_shape=X_train.shape[1:]))\n",
    "model.add(Conv2D(filters=64, kernel_size=(5,5), activation='relu'))\n",
    "model.add(MaxPool2D(pool_size=(2, 2)))\n",
    "model.add(Dropout(rate=0.15))\n",
    "model.add(Conv2D(filters=128, kernel_size=(3, 3), activation='relu'))\n",
    "model.add(Conv2D(filters=256, kernel_size=(3, 3), activation='relu'))\n",
    "model.add(MaxPool2D(pool_size=(2, 2)))\n",
    "model.add(Dropout(rate=0.20))\n",
    "model.add(Flatten())\n",
    "model.add(Dense(512, activation='relu'))\n",
    "model.add(Dropout(rate=0.25))\n",
    "model.add(Dense(43, activation='softmax'))\n",
    "\n",
    "# Compilation of the model\n",
    "model.compile(loss='categorical_crossentropy', optimizer='adam', metrics=['accuracy'])\n",
    "\n",
    "#M odel display\n",
    "model.summary() "
   ]
  },
  {
   "cell_type": "markdown",
   "id": "85ae26fa",
   "metadata": {
    "papermill": {
     "duration": 0.022619,
     "end_time": "2024-08-07T18:43:53.452557",
     "exception": false,
     "start_time": "2024-08-07T18:43:53.429938",
     "status": "completed"
    },
    "tags": []
   },
   "source": [
    "# 6. Training the Model"
   ]
  },
  {
   "cell_type": "code",
   "execution_count": 7,
   "id": "fe8a9e0d",
   "metadata": {
    "execution": {
     "iopub.execute_input": "2024-08-07T18:43:53.499869Z",
     "iopub.status.busy": "2024-08-07T18:43:53.499252Z",
     "iopub.status.idle": "2024-08-07T18:45:12.430474Z",
     "shell.execute_reply": "2024-08-07T18:45:12.429790Z"
    },
    "papermill": {
     "duration": 78.957064,
     "end_time": "2024-08-07T18:45:12.432533",
     "exception": false,
     "start_time": "2024-08-07T18:43:53.475469",
     "status": "completed"
    },
    "tags": []
   },
   "outputs": [
    {
     "name": "stdout",
     "output_type": "stream",
     "text": [
      "Epoch 1/35\n",
      "246/246 [==============================] - 10s 9ms/step - loss: 1.3544 - accuracy: 0.7137 - val_loss: 0.1541 - val_accuracy: 0.9639\n",
      "Epoch 2/35\n",
      "246/246 [==============================] - 2s 8ms/step - loss: 0.1488 - accuracy: 0.9620 - val_loss: 0.0564 - val_accuracy: 0.9888\n",
      "Epoch 3/35\n",
      "246/246 [==============================] - 2s 8ms/step - loss: 0.0826 - accuracy: 0.9787 - val_loss: 0.0411 - val_accuracy: 0.9917\n",
      "Epoch 4/35\n",
      "246/246 [==============================] - 2s 8ms/step - loss: 0.0622 - accuracy: 0.9845 - val_loss: 0.0543 - val_accuracy: 0.9879\n",
      "Epoch 5/35\n",
      "246/246 [==============================] - 2s 8ms/step - loss: 0.0677 - accuracy: 0.9826 - val_loss: 0.0303 - val_accuracy: 0.9943\n",
      "Epoch 6/35\n",
      "246/246 [==============================] - 2s 8ms/step - loss: 0.0522 - accuracy: 0.9871 - val_loss: 0.0303 - val_accuracy: 0.9929\n",
      "Epoch 7/35\n",
      "246/246 [==============================] - 2s 8ms/step - loss: 0.0358 - accuracy: 0.9915 - val_loss: 0.0563 - val_accuracy: 0.9883\n",
      "Epoch 8/35\n",
      "246/246 [==============================] - 2s 9ms/step - loss: 0.0425 - accuracy: 0.9894 - val_loss: 0.0353 - val_accuracy: 0.9941\n",
      "Epoch 9/35\n",
      "246/246 [==============================] - 2s 8ms/step - loss: 0.0389 - accuracy: 0.9904 - val_loss: 0.0536 - val_accuracy: 0.9916\n",
      "Epoch 10/35\n",
      "246/246 [==============================] - 2s 8ms/step - loss: 0.0514 - accuracy: 0.9879 - val_loss: 0.0326 - val_accuracy: 0.9925\n",
      "Epoch 11/35\n",
      "246/246 [==============================] - 2s 8ms/step - loss: 0.0485 - accuracy: 0.9874 - val_loss: 0.0280 - val_accuracy: 0.9948\n",
      "Epoch 12/35\n",
      "246/246 [==============================] - 2s 8ms/step - loss: 0.0349 - accuracy: 0.9914 - val_loss: 0.0466 - val_accuracy: 0.9918\n",
      "Epoch 13/35\n",
      "246/246 [==============================] - 2s 8ms/step - loss: 0.1017 - accuracy: 0.9776 - val_loss: 0.0512 - val_accuracy: 0.9879\n",
      "Epoch 14/35\n",
      "246/246 [==============================] - 2s 8ms/step - loss: 0.0797 - accuracy: 0.9818 - val_loss: 0.0420 - val_accuracy: 0.9927\n",
      "Epoch 15/35\n",
      "246/246 [==============================] - 2s 8ms/step - loss: 0.0234 - accuracy: 0.9933 - val_loss: 0.0384 - val_accuracy: 0.9925\n",
      "Epoch 16/35\n",
      "246/246 [==============================] - 2s 8ms/step - loss: 0.0736 - accuracy: 0.9846 - val_loss: 0.0261 - val_accuracy: 0.9948\n",
      "Epoch 17/35\n",
      "246/246 [==============================] - 2s 8ms/step - loss: 0.0304 - accuracy: 0.9930 - val_loss: 0.0346 - val_accuracy: 0.9955\n",
      "Epoch 18/35\n",
      "246/246 [==============================] - 2s 8ms/step - loss: 0.0474 - accuracy: 0.9900 - val_loss: 0.0277 - val_accuracy: 0.9964\n",
      "Epoch 19/35\n",
      "246/246 [==============================] - 2s 8ms/step - loss: 0.0364 - accuracy: 0.9913 - val_loss: 0.0296 - val_accuracy: 0.9943\n",
      "Epoch 20/35\n",
      "246/246 [==============================] - 2s 8ms/step - loss: 0.0303 - accuracy: 0.9936 - val_loss: 0.0273 - val_accuracy: 0.9941\n",
      "Epoch 21/35\n",
      "246/246 [==============================] - 2s 8ms/step - loss: 0.0224 - accuracy: 0.9951 - val_loss: 0.0367 - val_accuracy: 0.9950\n",
      "Epoch 22/35\n",
      "246/246 [==============================] - 2s 8ms/step - loss: 0.0348 - accuracy: 0.9922 - val_loss: 0.0389 - val_accuracy: 0.9921\n",
      "Epoch 23/35\n",
      "246/246 [==============================] - 2s 8ms/step - loss: 0.0455 - accuracy: 0.9903 - val_loss: 0.0390 - val_accuracy: 0.9941\n",
      "Epoch 24/35\n",
      "246/246 [==============================] - 2s 8ms/step - loss: 0.0736 - accuracy: 0.9843 - val_loss: 0.0427 - val_accuracy: 0.9909\n",
      "Epoch 25/35\n",
      "246/246 [==============================] - 2s 8ms/step - loss: 0.0476 - accuracy: 0.9908 - val_loss: 0.0845 - val_accuracy: 0.9920\n",
      "Epoch 26/35\n",
      "246/246 [==============================] - 2s 8ms/step - loss: 0.0555 - accuracy: 0.9901 - val_loss: 0.0506 - val_accuracy: 0.9944\n",
      "Epoch 27/35\n",
      "246/246 [==============================] - 2s 8ms/step - loss: 0.0266 - accuracy: 0.9939 - val_loss: 0.0318 - val_accuracy: 0.9963\n",
      "Epoch 28/35\n",
      "246/246 [==============================] - 2s 8ms/step - loss: 0.0300 - accuracy: 0.9938 - val_loss: 0.0388 - val_accuracy: 0.9954\n",
      "Epoch 29/35\n",
      "246/246 [==============================] - 2s 8ms/step - loss: 0.0502 - accuracy: 0.9909 - val_loss: 0.0403 - val_accuracy: 0.9940\n",
      "Epoch 30/35\n",
      "246/246 [==============================] - 2s 8ms/step - loss: 0.0691 - accuracy: 0.9874 - val_loss: 0.0496 - val_accuracy: 0.9939\n",
      "Epoch 31/35\n",
      "246/246 [==============================] - 2s 8ms/step - loss: 0.0917 - accuracy: 0.9879 - val_loss: 0.0782 - val_accuracy: 0.9902\n",
      "Epoch 32/35\n",
      "246/246 [==============================] - 2s 8ms/step - loss: 0.0376 - accuracy: 0.9927 - val_loss: 0.0365 - val_accuracy: 0.9954\n",
      "Epoch 33/35\n",
      "246/246 [==============================] - 2s 8ms/step - loss: 0.0271 - accuracy: 0.9949 - val_loss: 0.0469 - val_accuracy: 0.9944\n",
      "Epoch 34/35\n",
      "246/246 [==============================] - 2s 8ms/step - loss: 0.0404 - accuracy: 0.9931 - val_loss: 0.0594 - val_accuracy: 0.9948\n",
      "Epoch 35/35\n",
      "246/246 [==============================] - 2s 8ms/step - loss: 0.0480 - accuracy: 0.9922 - val_loss: 0.0501 - val_accuracy: 0.9963\n"
     ]
    }
   ],
   "source": [
    "# Training the Model\n",
    "with tf.device('/GPU:0'):\n",
    "    epochs = 35\n",
    "    history1 = model.fit(X_train, y_train, batch_size=128, epochs=epochs, validation_data=(X_test, y_test))"
   ]
  },
  {
   "cell_type": "markdown",
   "id": "67ce5265",
   "metadata": {
    "papermill": {
     "duration": 0.528883,
     "end_time": "2024-08-07T18:45:13.470849",
     "exception": false,
     "start_time": "2024-08-07T18:45:12.941966",
     "status": "completed"
    },
    "tags": []
   },
   "source": [
    "# 7. Visualizing the performance of the Model during Training Phase"
   ]
  },
  {
   "cell_type": "code",
   "execution_count": 8,
   "id": "db1a4027",
   "metadata": {
    "execution": {
     "iopub.execute_input": "2024-08-07T18:45:14.491781Z",
     "iopub.status.busy": "2024-08-07T18:45:14.491216Z",
     "iopub.status.idle": "2024-08-07T18:45:14.867649Z",
     "shell.execute_reply": "2024-08-07T18:45:14.866921Z"
    },
    "papermill": {
     "duration": 0.889695,
     "end_time": "2024-08-07T18:45:14.869739",
     "exception": false,
     "start_time": "2024-08-07T18:45:13.980044",
     "status": "completed"
    },
    "tags": []
   },
   "outputs": [
    {
     "data": {
      "image/png": "[encoded data removed]",
      "text/plain": [
       "<Figure size 1440x360 with 2 Axes>"
      ]
     },
     "metadata": {
      "needs_background": "light"
     },
     "output_type": "display_data"
    }
   ],
   "source": [
    "plot_performance(history=history1)"
   ]
  },
  {
   "cell_type": "markdown",
   "id": "7b19e3fe",
   "metadata": {
    "papermill": {
     "duration": 0.519762,
     "end_time": "2024-08-07T18:45:15.903559",
     "exception": false,
     "start_time": "2024-08-07T18:45:15.383797",
     "status": "completed"
    },
    "tags": []
   },
   "source": [
    "# 8. Loading Test Dataset and Evaluating the Model"
   ]
  },
  {
   "cell_type": "code",
   "execution_count": 9,
   "id": "75634f70",
   "metadata": {
    "execution": {
     "iopub.execute_input": "2024-08-07T18:45:16.928569Z",
     "iopub.status.busy": "2024-08-07T18:45:16.927727Z",
     "iopub.status.idle": "2024-08-07T18:47:05.834436Z",
     "shell.execute_reply": "2024-08-07T18:47:05.833701Z"
    },
    "papermill": {
     "duration": 109.420413,
     "end_time": "2024-08-07T18:47:05.836863",
     "exception": false,
     "start_time": "2024-08-07T18:45:16.416450",
     "status": "completed"
    },
    "tags": []
   },
   "outputs": [],
   "source": [
    "# testing accuracy on test dataset\n",
    "from sklearn.metrics import accuracy_score\n",
    "\n",
    "# Importing the test dataset\n",
    "y_test = pd.read_csv('../input/gtsrb-german-traffic-sign/Test.csv')\n",
    "\n",
    "labels = y_test[\"ClassId\"].values\n",
    "imgs = y_test[\"Path\"].values\n",
    "\n",
    "data=[]\n",
    "\n",
    "# Retreiving the images\n",
    "with tf.device('/GPU:0'):\n",
    "    for img in imgs:\n",
    "        image = Image.open('../input/gtsrb-german-traffic-sign/'+img)\n",
    "        image = image.resize([30, 30])\n",
    "        data.append(np.array(image))\n",
    "\n",
    "X_test=np.array(data)"
   ]
  },
  {
   "cell_type": "code",
   "execution_count": 10,
   "id": "050a3efd",
   "metadata": {
    "execution": {
     "iopub.execute_input": "2024-08-07T18:47:06.862959Z",
     "iopub.status.busy": "2024-08-07T18:47:06.862662Z",
     "iopub.status.idle": "2024-08-07T18:47:07.561469Z",
     "shell.execute_reply": "2024-08-07T18:47:07.560694Z"
    },
    "papermill": {
     "duration": 1.21816,
     "end_time": "2024-08-07T18:47:07.563487",
     "exception": false,
     "start_time": "2024-08-07T18:47:06.345327",
     "status": "completed"
    },
    "tags": []
   },
   "outputs": [
    {
     "name": "stdout",
     "output_type": "stream",
     "text": [
      "0.9728424386381631\n"
     ]
    }
   ],
   "source": [
    "with tf.device('/GPU:0'):\n",
    "    pred = np.argmax(model.predict(X_test), axis=-1)\n",
    "\n",
    "#Accuracy with the test data\n",
    "from sklearn.metrics import accuracy_score\n",
    "print(accuracy_score(labels, pred))"
   ]
  },
  {
   "cell_type": "markdown",
   "id": "88d1e75f",
   "metadata": {
    "papermill": {
     "duration": 0.512606,
     "end_time": "2024-08-07T18:47:08.584401",
     "exception": false,
     "start_time": "2024-08-07T18:47:08.071795",
     "status": "completed"
    },
    "tags": []
   },
   "source": [
    "# 9. Saving the Model"
   ]
  },
  {
   "cell_type": "code",
   "execution_count": 11,
   "id": "74b5eaee",
   "metadata": {
    "execution": {
     "iopub.execute_input": "2024-08-07T18:47:09.613565Z",
     "iopub.status.busy": "2024-08-07T18:47:09.613287Z",
     "iopub.status.idle": "2024-08-07T18:47:09.678314Z",
     "shell.execute_reply": "2024-08-07T18:47:09.677677Z"
    },
    "papermill": {
     "duration": 0.589136,
     "end_time": "2024-08-07T18:47:09.680352",
     "exception": false,
     "start_time": "2024-08-07T18:47:09.091216",
     "status": "completed"
    },
    "tags": []
   },
   "outputs": [],
   "source": [
    "# Saving the Model \n",
    "model.save('traffic_classifier.h5')"
   ]
  }
 ],
 "metadata": {
  "kaggle": {
   "accelerator": "none",
   "dataSources": [
    {
     "datasetId": 82373,
     "sourceId": 191501,
     "sourceType": "datasetVersion"
    }
   ],
   "dockerImageVersionId": 30191,
   "isGpuEnabled": false,
   "isInternetEnabled": true,
   "language": "python",
   "sourceType": "notebook"
  },
  "kernelspec": {
   "display_name": "Python 3",
   "language": "python",
   "name": "python3"
  },
  "language_info": {
   "codemirror_mode": {
    "name": "ipython",
    "version": 3
   },
   "file_extension": ".py",
   "mimetype": "text/x-python",
   "name": "python",
   "nbconvert_exporter": "python",
   "pygments_lexer": "ipython3",
   "version": "3.7.12"
  },
  "papermill": {
   "default_parameters": {},
   "duration": 467.668447,
   "end_time": "2024-08-07T18:47:13.266683",
   "environment_variables": {},
   "exception": null,
   "input_path": "__notebook__.ipynb",
   "output_path": "__notebook__.ipynb",
   "parameters": {},
   "start_time": "2024-08-07T18:39:25.598236",
   "version": "2.3.4"
  }
 },
 "nbformat": 4,
 "nbformat_minor": 5
}
